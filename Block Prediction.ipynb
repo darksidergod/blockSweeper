{
 "cells": [
  {
   "cell_type": "code",
   "execution_count": null,
   "id": "3302b61c",
   "metadata": {},
   "outputs": [],
   "source": [
    "import pandas as pd\n",
    "import datetime as dt"
   ]
  },
  {
   "cell_type": "code",
   "execution_count": null,
   "id": "0fd17345",
   "metadata": {},
   "outputs": [],
   "source": [
    "blocks_df = pd.read_csv('dataforexp/blocks/20211025.tsv', sep='\\t')\n",
    "tx_df = pd.read_csv('dataforexp/transactions/20211025.tsv', sep='\\t', index_col='fee_usd')\n",
    "calls_df = pd.read_csv('dataforexp/calls/20211025.tsv', sep='\\t', index_col='value_usd')"
   ]
  },
  {
   "cell_type": "code",
   "execution_count": null,
   "id": "56eda534",
   "metadata": {},
   "outputs": [],
   "source": [
    "pd.set_option('display.max_rows', 85)\n",
    "pd.set_option('display.max_columns', 85)"
   ]
  },
  {
   "cell_type": "code",
   "execution_count": null,
   "id": "3fc1740a",
   "metadata": {},
   "outputs": [],
   "source": [
    "t_prev = blocks_df.loc[0, 'time']\n",
    "t_next=blocks_df.loc[1, 'time']"
   ]
  },
  {
   "cell_type": "code",
   "execution_count": null,
   "id": "85e7e221",
   "metadata": {
    "scrolled": false
   },
   "outputs": [],
   "source": [
    "filt=(tx_df['time']<=t_prev)\n",
    "# filt=(tx_df['time']>t_prev) & (tx_df['time']<=t_next)\n",
    "txs_list=tx_df[filt]\n",
    "(txs_list).sort_index()\n",
    "txs_list['hash']"
   ]
  },
  {
   "cell_type": "code",
   "execution_count": 7,
   "id": "c9f4e0ee",
   "metadata": {},
   "outputs": [],
   "source": [
    "# from web3 import Web3\n",
    "# import re\n",
    "# w3 = Web3(Web3.HTTPProvider('https://mainnet.infura.io/v3/f5bcecfe34ce4266900d381b31f68ccb'))\n",
    "# block_num=int(blocks_df.loc[2, 'id'])\n",
    "# tx_hashList=w3.eth.get_block(block_num).transactions\n",
    "# tx_IDs=[]\n",
    "# for hexbyte in tx_hashList:\n",
    "#     tx_IDs.append(hexbyte.hex())\n",
    "    \n",
    "# for tx_hash in tx_IDs:\n",
    "#     print(tx_hash)"
   ]
  },
  {
   "cell_type": "code",
   "execution_count": 8,
   "id": "98488a95",
   "metadata": {},
   "outputs": [],
   "source": [
    "calls_list=calls_df[filt]\n",
    "calls_list.sort_index()"
   ]
  },
  {
   "cell_type": "code",
   "execution_count": 9,
   "id": "dc8ac1af",
   "metadata": {},
   "outputs": [],
   "source": []
  },
  {
   "cell_type": "code",
   "execution_count": null,
   "id": "8cf9a9c8",
   "metadata": {},
   "outputs": [],
   "source": []
  },
  {
   "cell_type": "code",
   "execution_count": null,
   "id": "7458f868",
   "metadata": {},
   "outputs": [],
   "source": []
  }
 ],
 "metadata": {
  "kernelspec": {
   "display_name": "Python 3 (ipykernel)",
   "language": "python",
   "name": "python3"
  },
  "language_info": {
   "codemirror_mode": {
    "name": "ipython",
    "version": 3
   },
   "file_extension": ".py",
   "mimetype": "text/x-python",
   "name": "python",
   "nbconvert_exporter": "python",
   "pygments_lexer": "ipython3",
   "version": "3.8.10"
  }
 },
 "nbformat": 4,
 "nbformat_minor": 5
}
